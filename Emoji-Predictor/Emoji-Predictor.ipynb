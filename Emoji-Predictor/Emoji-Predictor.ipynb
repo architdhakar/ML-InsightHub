{
  "nbformat": 4,
  "nbformat_minor": 0,
  "metadata": {
    "colab": {
      "provenance": [],
      "gpuType": "V28"
    },
    "kernelspec": {
      "name": "python3",
      "display_name": "Python 3"
    },
    "language_info": {
      "name": "python"
    },
    "accelerator": "TPU"
  },
  "cells": [
    {
      "cell_type": "markdown",
      "source": [
        "\n",
        "# Emoji Prediction using LSTM Model\n",
        "\n"
      ],
      "metadata": {
        "id": "BI8YGiYxYxEl"
      }
    },
    {
      "cell_type": "markdown",
      "source": [
        "## Import Libraries"
      ],
      "metadata": {
        "id": "sYoXC19olyAO"
      }
    },
    {
      "cell_type": "code",
      "source": [
        "!unzip -uq '/content/Emoji.zip' -d '/content'"
      ],
      "metadata": {
        "id": "2m1IC80mn-DE"
      },
      "execution_count": 1,
      "outputs": []
    },
    {
      "cell_type": "code",
      "execution_count": 2,
      "metadata": {
        "id": "cxtj0MOXmYYj"
      },
      "outputs": [],
      "source": [
        "#!pip install keras\n",
        "import numpy as np\n",
        "import pandas as pd\n",
        "import tensorflow\n",
        "from tensorflow.keras.models import Sequential\n",
        "from tensorflow.keras.layers import Dense,LSTM,SimpleRNN,Embedding\n",
        "\n",
        "\n"
      ]
    },
    {
      "cell_type": "markdown",
      "source": [
        "# Data Pre-processing"
      ],
      "metadata": {
        "id": "sCLrkEsS7nPO"
      }
    },
    {
      "cell_type": "code",
      "source": [
        "data=pd.read_csv('/content/Train_data.csv', header=None)\n",
        "data=data.drop(0)\n",
        "\n",
        "data.head()\n"
      ],
      "metadata": {
        "colab": {
          "base_uri": "https://localhost:8080/",
          "height": 206
        },
        "id": "4Hh-Mhnul-yT",
        "outputId": "28975f77-ae48-4838-e0b4-d5032d594878"
      },
      "execution_count": 3,
      "outputs": [
        {
          "output_type": "execute_result",
          "data": {
            "text/plain": [
              "                                                   0   1\n",
              "1  A little throwback with my favourite person @ ...   0\n",
              "2  glam on @user yesterday for #kcon makeup using...   7\n",
              "3  Democracy Plaza in the wake of a stunning outc...  11\n",
              "4   Then &amp; Now. VILO @ Walt Disney Magic Kingdom   0\n",
              "5               Who never... @ A Galaxy Far Far Away   2"
            ],
            "text/html": [
              "\n",
              "  <div id=\"df-d0f179dc-74ea-42c1-806f-5517dd027b90\" class=\"colab-df-container\">\n",
              "    <div>\n",
              "<style scoped>\n",
              "    .dataframe tbody tr th:only-of-type {\n",
              "        vertical-align: middle;\n",
              "    }\n",
              "\n",
              "    .dataframe tbody tr th {\n",
              "        vertical-align: top;\n",
              "    }\n",
              "\n",
              "    .dataframe thead th {\n",
              "        text-align: right;\n",
              "    }\n",
              "</style>\n",
              "<table border=\"1\" class=\"dataframe\">\n",
              "  <thead>\n",
              "    <tr style=\"text-align: right;\">\n",
              "      <th></th>\n",
              "      <th>0</th>\n",
              "      <th>1</th>\n",
              "    </tr>\n",
              "  </thead>\n",
              "  <tbody>\n",
              "    <tr>\n",
              "      <th>1</th>\n",
              "      <td>A little throwback with my favourite person @ ...</td>\n",
              "      <td>0</td>\n",
              "    </tr>\n",
              "    <tr>\n",
              "      <th>2</th>\n",
              "      <td>glam on @user yesterday for #kcon makeup using...</td>\n",
              "      <td>7</td>\n",
              "    </tr>\n",
              "    <tr>\n",
              "      <th>3</th>\n",
              "      <td>Democracy Plaza in the wake of a stunning outc...</td>\n",
              "      <td>11</td>\n",
              "    </tr>\n",
              "    <tr>\n",
              "      <th>4</th>\n",
              "      <td>Then &amp;amp; Now. VILO @ Walt Disney Magic Kingdom</td>\n",
              "      <td>0</td>\n",
              "    </tr>\n",
              "    <tr>\n",
              "      <th>5</th>\n",
              "      <td>Who never... @ A Galaxy Far Far Away</td>\n",
              "      <td>2</td>\n",
              "    </tr>\n",
              "  </tbody>\n",
              "</table>\n",
              "</div>\n",
              "    <div class=\"colab-df-buttons\">\n",
              "\n",
              "  <div class=\"colab-df-container\">\n",
              "    <button class=\"colab-df-convert\" onclick=\"convertToInteractive('df-d0f179dc-74ea-42c1-806f-5517dd027b90')\"\n",
              "            title=\"Convert this dataframe to an interactive table.\"\n",
              "            style=\"display:none;\">\n",
              "\n",
              "  <svg xmlns=\"http://www.w3.org/2000/svg\" height=\"24px\" viewBox=\"0 -960 960 960\">\n",
              "    <path d=\"M120-120v-720h720v720H120Zm60-500h600v-160H180v160Zm220 220h160v-160H400v160Zm0 220h160v-160H400v160ZM180-400h160v-160H180v160Zm440 0h160v-160H620v160ZM180-180h160v-160H180v160Zm440 0h160v-160H620v160Z\"/>\n",
              "  </svg>\n",
              "    </button>\n",
              "\n",
              "  <style>\n",
              "    .colab-df-container {\n",
              "      display:flex;\n",
              "      gap: 12px;\n",
              "    }\n",
              "\n",
              "    .colab-df-convert {\n",
              "      background-color: #E8F0FE;\n",
              "      border: none;\n",
              "      border-radius: 50%;\n",
              "      cursor: pointer;\n",
              "      display: none;\n",
              "      fill: #1967D2;\n",
              "      height: 32px;\n",
              "      padding: 0 0 0 0;\n",
              "      width: 32px;\n",
              "    }\n",
              "\n",
              "    .colab-df-convert:hover {\n",
              "      background-color: #E2EBFA;\n",
              "      box-shadow: 0px 1px 2px rgba(60, 64, 67, 0.3), 0px 1px 3px 1px rgba(60, 64, 67, 0.15);\n",
              "      fill: #174EA6;\n",
              "    }\n",
              "\n",
              "    .colab-df-buttons div {\n",
              "      margin-bottom: 4px;\n",
              "    }\n",
              "\n",
              "    [theme=dark] .colab-df-convert {\n",
              "      background-color: #3B4455;\n",
              "      fill: #D2E3FC;\n",
              "    }\n",
              "\n",
              "    [theme=dark] .colab-df-convert:hover {\n",
              "      background-color: #434B5C;\n",
              "      box-shadow: 0px 1px 3px 1px rgba(0, 0, 0, 0.15);\n",
              "      filter: drop-shadow(0px 1px 2px rgba(0, 0, 0, 0.3));\n",
              "      fill: #FFFFFF;\n",
              "    }\n",
              "  </style>\n",
              "\n",
              "    <script>\n",
              "      const buttonEl =\n",
              "        document.querySelector('#df-d0f179dc-74ea-42c1-806f-5517dd027b90 button.colab-df-convert');\n",
              "      buttonEl.style.display =\n",
              "        google.colab.kernel.accessAllowed ? 'block' : 'none';\n",
              "\n",
              "      async function convertToInteractive(key) {\n",
              "        const element = document.querySelector('#df-d0f179dc-74ea-42c1-806f-5517dd027b90');\n",
              "        const dataTable =\n",
              "          await google.colab.kernel.invokeFunction('convertToInteractive',\n",
              "                                                    [key], {});\n",
              "        if (!dataTable) return;\n",
              "\n",
              "        const docLinkHtml = 'Like what you see? Visit the ' +\n",
              "          '<a target=\"_blank\" href=https://colab.research.google.com/notebooks/data_table.ipynb>data table notebook</a>'\n",
              "          + ' to learn more about interactive tables.';\n",
              "        element.innerHTML = '';\n",
              "        dataTable['output_type'] = 'display_data';\n",
              "        await google.colab.output.renderOutput(dataTable, element);\n",
              "        const docLink = document.createElement('div');\n",
              "        docLink.innerHTML = docLinkHtml;\n",
              "        element.appendChild(docLink);\n",
              "      }\n",
              "    </script>\n",
              "  </div>\n",
              "\n",
              "\n",
              "<div id=\"df-53b60254-c1c1-4b6e-8b63-a75462690a44\">\n",
              "  <button class=\"colab-df-quickchart\" onclick=\"quickchart('df-53b60254-c1c1-4b6e-8b63-a75462690a44')\"\n",
              "            title=\"Suggest charts\"\n",
              "            style=\"display:none;\">\n",
              "\n",
              "<svg xmlns=\"http://www.w3.org/2000/svg\" height=\"24px\"viewBox=\"0 0 24 24\"\n",
              "     width=\"24px\">\n",
              "    <g>\n",
              "        <path d=\"M19 3H5c-1.1 0-2 .9-2 2v14c0 1.1.9 2 2 2h14c1.1 0 2-.9 2-2V5c0-1.1-.9-2-2-2zM9 17H7v-7h2v7zm4 0h-2V7h2v10zm4 0h-2v-4h2v4z\"/>\n",
              "    </g>\n",
              "</svg>\n",
              "  </button>\n",
              "\n",
              "<style>\n",
              "  .colab-df-quickchart {\n",
              "      --bg-color: #E8F0FE;\n",
              "      --fill-color: #1967D2;\n",
              "      --hover-bg-color: #E2EBFA;\n",
              "      --hover-fill-color: #174EA6;\n",
              "      --disabled-fill-color: #AAA;\n",
              "      --disabled-bg-color: #DDD;\n",
              "  }\n",
              "\n",
              "  [theme=dark] .colab-df-quickchart {\n",
              "      --bg-color: #3B4455;\n",
              "      --fill-color: #D2E3FC;\n",
              "      --hover-bg-color: #434B5C;\n",
              "      --hover-fill-color: #FFFFFF;\n",
              "      --disabled-bg-color: #3B4455;\n",
              "      --disabled-fill-color: #666;\n",
              "  }\n",
              "\n",
              "  .colab-df-quickchart {\n",
              "    background-color: var(--bg-color);\n",
              "    border: none;\n",
              "    border-radius: 50%;\n",
              "    cursor: pointer;\n",
              "    display: none;\n",
              "    fill: var(--fill-color);\n",
              "    height: 32px;\n",
              "    padding: 0;\n",
              "    width: 32px;\n",
              "  }\n",
              "\n",
              "  .colab-df-quickchart:hover {\n",
              "    background-color: var(--hover-bg-color);\n",
              "    box-shadow: 0 1px 2px rgba(60, 64, 67, 0.3), 0 1px 3px 1px rgba(60, 64, 67, 0.15);\n",
              "    fill: var(--button-hover-fill-color);\n",
              "  }\n",
              "\n",
              "  .colab-df-quickchart-complete:disabled,\n",
              "  .colab-df-quickchart-complete:disabled:hover {\n",
              "    background-color: var(--disabled-bg-color);\n",
              "    fill: var(--disabled-fill-color);\n",
              "    box-shadow: none;\n",
              "  }\n",
              "\n",
              "  .colab-df-spinner {\n",
              "    border: 2px solid var(--fill-color);\n",
              "    border-color: transparent;\n",
              "    border-bottom-color: var(--fill-color);\n",
              "    animation:\n",
              "      spin 1s steps(1) infinite;\n",
              "  }\n",
              "\n",
              "  @keyframes spin {\n",
              "    0% {\n",
              "      border-color: transparent;\n",
              "      border-bottom-color: var(--fill-color);\n",
              "      border-left-color: var(--fill-color);\n",
              "    }\n",
              "    20% {\n",
              "      border-color: transparent;\n",
              "      border-left-color: var(--fill-color);\n",
              "      border-top-color: var(--fill-color);\n",
              "    }\n",
              "    30% {\n",
              "      border-color: transparent;\n",
              "      border-left-color: var(--fill-color);\n",
              "      border-top-color: var(--fill-color);\n",
              "      border-right-color: var(--fill-color);\n",
              "    }\n",
              "    40% {\n",
              "      border-color: transparent;\n",
              "      border-right-color: var(--fill-color);\n",
              "      border-top-color: var(--fill-color);\n",
              "    }\n",
              "    60% {\n",
              "      border-color: transparent;\n",
              "      border-right-color: var(--fill-color);\n",
              "    }\n",
              "    80% {\n",
              "      border-color: transparent;\n",
              "      border-right-color: var(--fill-color);\n",
              "      border-bottom-color: var(--fill-color);\n",
              "    }\n",
              "    90% {\n",
              "      border-color: transparent;\n",
              "      border-bottom-color: var(--fill-color);\n",
              "    }\n",
              "  }\n",
              "</style>\n",
              "\n",
              "  <script>\n",
              "    async function quickchart(key) {\n",
              "      const quickchartButtonEl =\n",
              "        document.querySelector('#' + key + ' button');\n",
              "      quickchartButtonEl.disabled = true;  // To prevent multiple clicks.\n",
              "      quickchartButtonEl.classList.add('colab-df-spinner');\n",
              "      try {\n",
              "        const charts = await google.colab.kernel.invokeFunction(\n",
              "            'suggestCharts', [key], {});\n",
              "      } catch (error) {\n",
              "        console.error('Error during call to suggestCharts:', error);\n",
              "      }\n",
              "      quickchartButtonEl.classList.remove('colab-df-spinner');\n",
              "      quickchartButtonEl.classList.add('colab-df-quickchart-complete');\n",
              "    }\n",
              "    (() => {\n",
              "      let quickchartButtonEl =\n",
              "        document.querySelector('#df-53b60254-c1c1-4b6e-8b63-a75462690a44 button');\n",
              "      quickchartButtonEl.style.display =\n",
              "        google.colab.kernel.accessAllowed ? 'block' : 'none';\n",
              "    })();\n",
              "  </script>\n",
              "</div>\n",
              "\n",
              "    </div>\n",
              "  </div>\n"
            ],
            "application/vnd.google.colaboratory.intrinsic+json": {
              "type": "dataframe",
              "variable_name": "data",
              "summary": "{\n  \"name\": \"data\",\n  \"rows\": 50000,\n  \"fields\": [\n    {\n      \"column\": 0,\n      \"properties\": {\n        \"dtype\": \"string\",\n        \"num_unique_values\": 49767,\n        \"samples\": [\n          \"Best spot @ Fuddruckers\",\n          \"Out with my little girl @ Wasabi Restaurant\",\n          \"@user We love how much you interact with your fans....and have a great time doing it! That's big stuff! Never stop having fun!\"\n        ],\n        \"semantic_type\": \"\",\n        \"description\": \"\"\n      }\n    },\n    {\n      \"column\": 1,\n      \"properties\": {\n        \"dtype\": \"category\",\n        \"num_unique_values\": 20,\n        \"samples\": [\n          \"0\",\n          \"12\",\n          \"15\"\n        ],\n        \"semantic_type\": \"\",\n        \"description\": \"\"\n      }\n    }\n  ]\n}"
            }
          },
          "metadata": {},
          "execution_count": 3
        }
      ]
    },
    {
      "cell_type": "code",
      "source": [
        "import re\n",
        "import string  # Import string to use string.punctuation\n",
        "\n",
        "def clean_text(text):\n",
        "    text = str(text).lower()\n",
        "    rm_mention = re.sub(r'@[A-Za-z0-9]+', '', text)                       # remove @mentions\n",
        "    rm_rt = re.sub(r'RT[\\s]+', '', rm_mention)                            # remove RT (with proper space handling)\n",
        "    rm_links = re.sub(r'http\\S+', '', rm_rt)                              # remove hyperlinks\n",
        "    rm_nums = re.sub('[0-9]+', '', rm_links)                              # remove numbers\n",
        "    rm_punc = [char for char in rm_nums if char not in string.punctuation] # remove punctuation\n",
        "    rm_punc = ''.join(rm_punc)\n",
        "    cleaned = rm_punc\n",
        "\n",
        "    return cleaned\n",
        "\n",
        "\n",
        "data[0] = data[0].apply(clean_text)\n",
        "\n"
      ],
      "metadata": {
        "id": "MStfQ4X_obVN"
      },
      "execution_count": 4,
      "outputs": []
    },
    {
      "cell_type": "code",
      "source": [
        "data.to_csv('/content/train.csv', index=False)"
      ],
      "metadata": {
        "id": "a66h-7rs32dn"
      },
      "execution_count": 5,
      "outputs": []
    },
    {
      "cell_type": "code",
      "source": [
        "data=pd.read_csv('/content/train.csv', header=None)\n",
        "data=data.drop(0)\n",
        "data.head()"
      ],
      "metadata": {
        "colab": {
          "base_uri": "https://localhost:8080/",
          "height": 206
        },
        "id": "vsWlt2Ho4sgC",
        "outputId": "0158beff-0ae5-44d3-fe1b-f62d8fe59cca"
      },
      "execution_count": 6,
      "outputs": [
        {
          "output_type": "execute_result",
          "data": {
            "text/plain": [
              "                                                   0   1\n",
              "1  a little throwback with my favourite person  w...   0\n",
              "2  glam on  yesterday for kcon makeup using  in f...   7\n",
              "3  democracy plaza in the wake of a stunning outc...  11\n",
              "4       then amp now vilo  walt disney magic kingdom   0\n",
              "5                   who never  a galaxy far far away   2"
            ],
            "text/html": [
              "\n",
              "  <div id=\"df-9e4a0267-5dbc-4343-a7c9-582b84e0b70c\" class=\"colab-df-container\">\n",
              "    <div>\n",
              "<style scoped>\n",
              "    .dataframe tbody tr th:only-of-type {\n",
              "        vertical-align: middle;\n",
              "    }\n",
              "\n",
              "    .dataframe tbody tr th {\n",
              "        vertical-align: top;\n",
              "    }\n",
              "\n",
              "    .dataframe thead th {\n",
              "        text-align: right;\n",
              "    }\n",
              "</style>\n",
              "<table border=\"1\" class=\"dataframe\">\n",
              "  <thead>\n",
              "    <tr style=\"text-align: right;\">\n",
              "      <th></th>\n",
              "      <th>0</th>\n",
              "      <th>1</th>\n",
              "    </tr>\n",
              "  </thead>\n",
              "  <tbody>\n",
              "    <tr>\n",
              "      <th>1</th>\n",
              "      <td>a little throwback with my favourite person  w...</td>\n",
              "      <td>0</td>\n",
              "    </tr>\n",
              "    <tr>\n",
              "      <th>2</th>\n",
              "      <td>glam on  yesterday for kcon makeup using  in f...</td>\n",
              "      <td>7</td>\n",
              "    </tr>\n",
              "    <tr>\n",
              "      <th>3</th>\n",
              "      <td>democracy plaza in the wake of a stunning outc...</td>\n",
              "      <td>11</td>\n",
              "    </tr>\n",
              "    <tr>\n",
              "      <th>4</th>\n",
              "      <td>then amp now vilo  walt disney magic kingdom</td>\n",
              "      <td>0</td>\n",
              "    </tr>\n",
              "    <tr>\n",
              "      <th>5</th>\n",
              "      <td>who never  a galaxy far far away</td>\n",
              "      <td>2</td>\n",
              "    </tr>\n",
              "  </tbody>\n",
              "</table>\n",
              "</div>\n",
              "    <div class=\"colab-df-buttons\">\n",
              "\n",
              "  <div class=\"colab-df-container\">\n",
              "    <button class=\"colab-df-convert\" onclick=\"convertToInteractive('df-9e4a0267-5dbc-4343-a7c9-582b84e0b70c')\"\n",
              "            title=\"Convert this dataframe to an interactive table.\"\n",
              "            style=\"display:none;\">\n",
              "\n",
              "  <svg xmlns=\"http://www.w3.org/2000/svg\" height=\"24px\" viewBox=\"0 -960 960 960\">\n",
              "    <path d=\"M120-120v-720h720v720H120Zm60-500h600v-160H180v160Zm220 220h160v-160H400v160Zm0 220h160v-160H400v160ZM180-400h160v-160H180v160Zm440 0h160v-160H620v160ZM180-180h160v-160H180v160Zm440 0h160v-160H620v160Z\"/>\n",
              "  </svg>\n",
              "    </button>\n",
              "\n",
              "  <style>\n",
              "    .colab-df-container {\n",
              "      display:flex;\n",
              "      gap: 12px;\n",
              "    }\n",
              "\n",
              "    .colab-df-convert {\n",
              "      background-color: #E8F0FE;\n",
              "      border: none;\n",
              "      border-radius: 50%;\n",
              "      cursor: pointer;\n",
              "      display: none;\n",
              "      fill: #1967D2;\n",
              "      height: 32px;\n",
              "      padding: 0 0 0 0;\n",
              "      width: 32px;\n",
              "    }\n",
              "\n",
              "    .colab-df-convert:hover {\n",
              "      background-color: #E2EBFA;\n",
              "      box-shadow: 0px 1px 2px rgba(60, 64, 67, 0.3), 0px 1px 3px 1px rgba(60, 64, 67, 0.15);\n",
              "      fill: #174EA6;\n",
              "    }\n",
              "\n",
              "    .colab-df-buttons div {\n",
              "      margin-bottom: 4px;\n",
              "    }\n",
              "\n",
              "    [theme=dark] .colab-df-convert {\n",
              "      background-color: #3B4455;\n",
              "      fill: #D2E3FC;\n",
              "    }\n",
              "\n",
              "    [theme=dark] .colab-df-convert:hover {\n",
              "      background-color: #434B5C;\n",
              "      box-shadow: 0px 1px 3px 1px rgba(0, 0, 0, 0.15);\n",
              "      filter: drop-shadow(0px 1px 2px rgba(0, 0, 0, 0.3));\n",
              "      fill: #FFFFFF;\n",
              "    }\n",
              "  </style>\n",
              "\n",
              "    <script>\n",
              "      const buttonEl =\n",
              "        document.querySelector('#df-9e4a0267-5dbc-4343-a7c9-582b84e0b70c button.colab-df-convert');\n",
              "      buttonEl.style.display =\n",
              "        google.colab.kernel.accessAllowed ? 'block' : 'none';\n",
              "\n",
              "      async function convertToInteractive(key) {\n",
              "        const element = document.querySelector('#df-9e4a0267-5dbc-4343-a7c9-582b84e0b70c');\n",
              "        const dataTable =\n",
              "          await google.colab.kernel.invokeFunction('convertToInteractive',\n",
              "                                                    [key], {});\n",
              "        if (!dataTable) return;\n",
              "\n",
              "        const docLinkHtml = 'Like what you see? Visit the ' +\n",
              "          '<a target=\"_blank\" href=https://colab.research.google.com/notebooks/data_table.ipynb>data table notebook</a>'\n",
              "          + ' to learn more about interactive tables.';\n",
              "        element.innerHTML = '';\n",
              "        dataTable['output_type'] = 'display_data';\n",
              "        await google.colab.output.renderOutput(dataTable, element);\n",
              "        const docLink = document.createElement('div');\n",
              "        docLink.innerHTML = docLinkHtml;\n",
              "        element.appendChild(docLink);\n",
              "      }\n",
              "    </script>\n",
              "  </div>\n",
              "\n",
              "\n",
              "<div id=\"df-16b7b7b7-65a4-430a-bd19-d33270348cf2\">\n",
              "  <button class=\"colab-df-quickchart\" onclick=\"quickchart('df-16b7b7b7-65a4-430a-bd19-d33270348cf2')\"\n",
              "            title=\"Suggest charts\"\n",
              "            style=\"display:none;\">\n",
              "\n",
              "<svg xmlns=\"http://www.w3.org/2000/svg\" height=\"24px\"viewBox=\"0 0 24 24\"\n",
              "     width=\"24px\">\n",
              "    <g>\n",
              "        <path d=\"M19 3H5c-1.1 0-2 .9-2 2v14c0 1.1.9 2 2 2h14c1.1 0 2-.9 2-2V5c0-1.1-.9-2-2-2zM9 17H7v-7h2v7zm4 0h-2V7h2v10zm4 0h-2v-4h2v4z\"/>\n",
              "    </g>\n",
              "</svg>\n",
              "  </button>\n",
              "\n",
              "<style>\n",
              "  .colab-df-quickchart {\n",
              "      --bg-color: #E8F0FE;\n",
              "      --fill-color: #1967D2;\n",
              "      --hover-bg-color: #E2EBFA;\n",
              "      --hover-fill-color: #174EA6;\n",
              "      --disabled-fill-color: #AAA;\n",
              "      --disabled-bg-color: #DDD;\n",
              "  }\n",
              "\n",
              "  [theme=dark] .colab-df-quickchart {\n",
              "      --bg-color: #3B4455;\n",
              "      --fill-color: #D2E3FC;\n",
              "      --hover-bg-color: #434B5C;\n",
              "      --hover-fill-color: #FFFFFF;\n",
              "      --disabled-bg-color: #3B4455;\n",
              "      --disabled-fill-color: #666;\n",
              "  }\n",
              "\n",
              "  .colab-df-quickchart {\n",
              "    background-color: var(--bg-color);\n",
              "    border: none;\n",
              "    border-radius: 50%;\n",
              "    cursor: pointer;\n",
              "    display: none;\n",
              "    fill: var(--fill-color);\n",
              "    height: 32px;\n",
              "    padding: 0;\n",
              "    width: 32px;\n",
              "  }\n",
              "\n",
              "  .colab-df-quickchart:hover {\n",
              "    background-color: var(--hover-bg-color);\n",
              "    box-shadow: 0 1px 2px rgba(60, 64, 67, 0.3), 0 1px 3px 1px rgba(60, 64, 67, 0.15);\n",
              "    fill: var(--button-hover-fill-color);\n",
              "  }\n",
              "\n",
              "  .colab-df-quickchart-complete:disabled,\n",
              "  .colab-df-quickchart-complete:disabled:hover {\n",
              "    background-color: var(--disabled-bg-color);\n",
              "    fill: var(--disabled-fill-color);\n",
              "    box-shadow: none;\n",
              "  }\n",
              "\n",
              "  .colab-df-spinner {\n",
              "    border: 2px solid var(--fill-color);\n",
              "    border-color: transparent;\n",
              "    border-bottom-color: var(--fill-color);\n",
              "    animation:\n",
              "      spin 1s steps(1) infinite;\n",
              "  }\n",
              "\n",
              "  @keyframes spin {\n",
              "    0% {\n",
              "      border-color: transparent;\n",
              "      border-bottom-color: var(--fill-color);\n",
              "      border-left-color: var(--fill-color);\n",
              "    }\n",
              "    20% {\n",
              "      border-color: transparent;\n",
              "      border-left-color: var(--fill-color);\n",
              "      border-top-color: var(--fill-color);\n",
              "    }\n",
              "    30% {\n",
              "      border-color: transparent;\n",
              "      border-left-color: var(--fill-color);\n",
              "      border-top-color: var(--fill-color);\n",
              "      border-right-color: var(--fill-color);\n",
              "    }\n",
              "    40% {\n",
              "      border-color: transparent;\n",
              "      border-right-color: var(--fill-color);\n",
              "      border-top-color: var(--fill-color);\n",
              "    }\n",
              "    60% {\n",
              "      border-color: transparent;\n",
              "      border-right-color: var(--fill-color);\n",
              "    }\n",
              "    80% {\n",
              "      border-color: transparent;\n",
              "      border-right-color: var(--fill-color);\n",
              "      border-bottom-color: var(--fill-color);\n",
              "    }\n",
              "    90% {\n",
              "      border-color: transparent;\n",
              "      border-bottom-color: var(--fill-color);\n",
              "    }\n",
              "  }\n",
              "</style>\n",
              "\n",
              "  <script>\n",
              "    async function quickchart(key) {\n",
              "      const quickchartButtonEl =\n",
              "        document.querySelector('#' + key + ' button');\n",
              "      quickchartButtonEl.disabled = true;  // To prevent multiple clicks.\n",
              "      quickchartButtonEl.classList.add('colab-df-spinner');\n",
              "      try {\n",
              "        const charts = await google.colab.kernel.invokeFunction(\n",
              "            'suggestCharts', [key], {});\n",
              "      } catch (error) {\n",
              "        console.error('Error during call to suggestCharts:', error);\n",
              "      }\n",
              "      quickchartButtonEl.classList.remove('colab-df-spinner');\n",
              "      quickchartButtonEl.classList.add('colab-df-quickchart-complete');\n",
              "    }\n",
              "    (() => {\n",
              "      let quickchartButtonEl =\n",
              "        document.querySelector('#df-16b7b7b7-65a4-430a-bd19-d33270348cf2 button');\n",
              "      quickchartButtonEl.style.display =\n",
              "        google.colab.kernel.accessAllowed ? 'block' : 'none';\n",
              "    })();\n",
              "  </script>\n",
              "</div>\n",
              "\n",
              "    </div>\n",
              "  </div>\n"
            ],
            "application/vnd.google.colaboratory.intrinsic+json": {
              "type": "dataframe",
              "variable_name": "data",
              "summary": "{\n  \"name\": \"data\",\n  \"rows\": 50000,\n  \"fields\": [\n    {\n      \"column\": 0,\n      \"properties\": {\n        \"dtype\": \"string\",\n        \"num_unique_values\": 49739,\n        \"samples\": [\n          \"clown trying to pass off his crystler as a bentley  englewood area\",\n          \"cheers to being   top of the standard\",\n          \"one of my absolute favorite places downtown wilmington do not let this little gem pass by\\u2026\"\n        ],\n        \"semantic_type\": \"\",\n        \"description\": \"\"\n      }\n    },\n    {\n      \"column\": 1,\n      \"properties\": {\n        \"dtype\": \"number\",\n        \"std\": 5,\n        \"min\": 0,\n        \"max\": 19,\n        \"num_unique_values\": 20,\n        \"samples\": [\n          0,\n          12,\n          15\n        ],\n        \"semantic_type\": \"\",\n        \"description\": \"\"\n      }\n    }\n  ]\n}"
            }
          },
          "metadata": {},
          "execution_count": 6
        }
      ]
    },
    {
      "cell_type": "markdown",
      "source": [
        "#Mapping of Emoji data to the given labels"
      ],
      "metadata": {
        "id": "zPlYZYbGa743"
      }
    },
    {
      "cell_type": "code",
      "source": [
        "map_data=pd.read_csv('/content/Mapping.csv', header=None)\n",
        "map_data=map_data.drop(0)\n",
        "map_data.head()\n",
        "\n",
        "emoji_dict = {}\n",
        "for index, row in map_data.iterrows():\n",
        "    emoji_dict[str(row[1])] = row[0]\n",
        "print(emoji_dict)\n",
        "\n"
      ],
      "metadata": {
        "colab": {
          "base_uri": "https://localhost:8080/"
        },
        "id": "xSWKkN1-XpkW",
        "outputId": "8871dae8-cafa-43bb-e730-937ce2bf00e1"
      },
      "execution_count": 7,
      "outputs": [
        {
          "output_type": "stream",
          "name": "stdout",
          "text": [
            "{'0': '❤️', '1': '😄', '2': '😂', '3': '💕', '4': '🔥', '5': '😊', '6': '😎', '7': '✨', '8': '💙', '9': '😘', '10': '📷', '11': '🇺🇸', '12': '☀️', '13': '💜', '14': '🙂', '15': '💯', '16': '😆', '17': '🎄', '18': '🏠', '19': '📸'}\n"
          ]
        }
      ]
    },
    {
      "cell_type": "code",
      "source": [
        "# Assuming X and Y are columns from the DataFrame data\n",
        "X = data[0].fillna('')  # Fill NaN values with empty strings\n",
        "Y = data[1].fillna('')  # If Y also has NaN, you may want to handle that too\n",
        "\n",
        "# Convert all entries in X and Y to strings (if necessary)\n",
        "X = X.astype(str)\n",
        "Y = Y.astype(str)\n",
        "\n",
        "# Print the cleaned data to verify\n",
        "print(X.head())\n",
        "print(Y.head())\n"
      ],
      "metadata": {
        "colab": {
          "base_uri": "https://localhost:8080/"
        },
        "id": "Ef0-6Ehd8IDP",
        "outputId": "f295420e-3869-45d1-bdce-f5460aa27fea"
      },
      "execution_count": 8,
      "outputs": [
        {
          "output_type": "stream",
          "name": "stdout",
          "text": [
            "1    a little throwback with my favourite person  w...\n",
            "2    glam on  yesterday for kcon makeup using  in f...\n",
            "3    democracy plaza in the wake of a stunning outc...\n",
            "4         then amp now vilo  walt disney magic kingdom\n",
            "5                     who never  a galaxy far far away\n",
            "Name: 0, dtype: object\n",
            "1     0\n",
            "2     7\n",
            "3    11\n",
            "4     0\n",
            "5     2\n",
            "Name: 1, dtype: object\n"
          ]
        }
      ]
    },
    {
      "cell_type": "markdown",
      "source": [
        "#Embeddings"
      ],
      "metadata": {
        "id": "Ic2-2AoIb2IW"
      }
    },
    {
      "cell_type": "code",
      "source": [
        "file=open('/content/glove.6B.100d.txt','r',encoding='utf8')\n",
        "\n",
        "content= file.readlines()\n",
        "file.close()\n",
        "\n",
        "embeddings={}\n",
        "for line in content:\n",
        "  line=line.split()\n",
        "  embeddings[line[0]]=np.array(line[1:],dtype=float)\n",
        "\n"
      ],
      "metadata": {
        "id": "VkxB-4jtXGgH"
      },
      "execution_count": 9,
      "outputs": []
    },
    {
      "cell_type": "code",
      "source": [
        "import tensorflow\n",
        "import keras\n",
        "from tensorflow.keras.preprocessing.text import Tokenizer"
      ],
      "metadata": {
        "id": "oTzj0VR-ePym"
      },
      "execution_count": 10,
      "outputs": []
    },
    {
      "cell_type": "code",
      "source": [
        "tokenizer=Tokenizer()\n",
        "tokenizer.fit_on_texts(X)\n",
        "word2index=tokenizer.word_index\n",
        "Xtoken=tokenizer.texts_to_sequences(X)\n",
        "\n"
      ],
      "metadata": {
        "id": "DAB80mOdfE9G"
      },
      "execution_count": 11,
      "outputs": []
    },
    {
      "cell_type": "code",
      "source": [
        "def get_max_len(data):\n",
        "  maxi=0\n",
        "  for sentense in data:\n",
        "    siz=len(sentense)\n",
        "    maxi=max(maxi,siz)\n",
        "  return maxi\n",
        "\n",
        "max_len=get_max_len(Xtoken)\n",
        "print(max_len)"
      ],
      "metadata": {
        "colab": {
          "base_uri": "https://localhost:8080/"
        },
        "id": "f6dWnEIcgTZq",
        "outputId": "3e079545-2b82-42c3-e4c5-dd9fdd8f374f"
      },
      "execution_count": 12,
      "outputs": [
        {
          "output_type": "stream",
          "name": "stdout",
          "text": [
            "33\n"
          ]
        }
      ]
    },
    {
      "cell_type": "code",
      "source": [
        "from tensorflow.keras.preprocessing.sequence import pad_sequences\n",
        "from tensorflow.keras.utils import to_categorical"
      ],
      "metadata": {
        "id": "zHStB7joh7EA"
      },
      "execution_count": 13,
      "outputs": []
    },
    {
      "cell_type": "code",
      "source": [
        "Xtrain=pad_sequences(Xtoken,max_len,padding='post', truncating='post')"
      ],
      "metadata": {
        "id": "qtFR2vP8ij8T"
      },
      "execution_count": 14,
      "outputs": []
    },
    {
      "cell_type": "code",
      "source": [
        "Ytrain=to_categorical(Y)\n",
        "print(Ytrain.shape)"
      ],
      "metadata": {
        "colab": {
          "base_uri": "https://localhost:8080/"
        },
        "id": "ywPPFys9jBRS",
        "outputId": "d6f46506-b296-45c3-c6e9-32aa85867e1f"
      },
      "execution_count": 15,
      "outputs": [
        {
          "output_type": "stream",
          "name": "stdout",
          "text": [
            "(50000, 20)\n"
          ]
        }
      ]
    },
    {
      "cell_type": "markdown",
      "source": [
        "#Model Training"
      ],
      "metadata": {
        "id": "mTjvBFA2jaaw"
      }
    },
    {
      "cell_type": "code",
      "source": [
        "embed_dim = 100\n",
        "embedding_matrix = np.zeros((len(word2index) + 1, embed_dim))\n",
        "\n",
        "for word, i in word2index.items():\n",
        "    if word in embeddings:\n",
        "        embed_vector = embeddings[word]\n",
        "    else:\n",
        "        embed_vector = np.random.randn(embed_dim)\n",
        "    embedding_matrix[i] = embed_vector\n"
      ],
      "metadata": {
        "id": "sRKyEHackiL1"
      },
      "execution_count": 16,
      "outputs": []
    },
    {
      "cell_type": "code",
      "source": [
        "embedding_matrix"
      ],
      "metadata": {
        "colab": {
          "base_uri": "https://localhost:8080/"
        },
        "id": "-ZewtZN5lgpk",
        "outputId": "d611ea70-6882-4853-b5f5-66459b5154ab"
      },
      "execution_count": 17,
      "outputs": [
        {
          "output_type": "execute_result",
          "data": {
            "text/plain": [
              "array([[ 0.        ,  0.        ,  0.        , ...,  0.        ,\n",
              "         0.        ,  0.        ],\n",
              "       [-0.038194  , -0.24487   ,  0.72812   , ..., -0.1459    ,\n",
              "         0.8278    ,  0.27062   ],\n",
              "       [ 0.080273  , -0.10861   ,  0.72067   , ..., -0.34842   ,\n",
              "         0.31466   ,  1.0087    ],\n",
              "       ...,\n",
              "       [ 0.04412444, -0.80622932, -0.3318888 , ...,  0.52828227,\n",
              "         0.45870009,  1.10861013],\n",
              "       [-0.24637768,  0.53167005,  1.3706176 , ..., -0.29922417,\n",
              "        -2.9847395 ,  0.92366879],\n",
              "       [-1.56411365,  0.91364875, -0.78404771, ..., -0.46735889,\n",
              "         0.92572685,  1.13814462]])"
            ]
          },
          "metadata": {},
          "execution_count": 17
        }
      ]
    },
    {
      "cell_type": "code",
      "source": [
        "from tensorflow.keras.layers import Dropout\n",
        "\n",
        "model = Sequential([\n",
        "    Embedding(input_dim=len(word2index)+1, output_dim=embed_dim, input_length=max_len, weights=[embedding_matrix], trainable=True),\n",
        "    LSTM(units=32, return_sequences=True ),\n",
        "    Dropout(0.5),\n",
        "    LSTM(units=16 ),\n",
        "    Dropout(0.5),\n",
        "    Dense(20, activation='softmax')\n",
        "])\n",
        "model.compile(optimizer='adam', loss='categorical_crossentropy', metrics=['accuracy'])"
      ],
      "metadata": {
        "id": "q7sgI1UojXkZ"
      },
      "execution_count": 18,
      "outputs": []
    },
    {
      "cell_type": "code",
      "source": [
        "print(Xtrain.shape)\n",
        "print(Ytrain.shape)"
      ],
      "metadata": {
        "colab": {
          "base_uri": "https://localhost:8080/"
        },
        "id": "X4gyX_zln8ai",
        "outputId": "3a222e0e-2380-44d9-c1e9-d6f10106c732"
      },
      "execution_count": 19,
      "outputs": [
        {
          "output_type": "stream",
          "name": "stdout",
          "text": [
            "(50000, 33)\n",
            "(50000, 20)\n"
          ]
        }
      ]
    },
    {
      "cell_type": "code",
      "source": [
        "model.fit(Xtrain,Ytrain,epochs=35)"
      ],
      "metadata": {
        "colab": {
          "base_uri": "https://localhost:8080/"
        },
        "id": "Ta1isUlFncb8",
        "outputId": "883d2a83-56fe-46e7-bb0d-7611447ef648"
      },
      "execution_count": 20,
      "outputs": [
        {
          "output_type": "stream",
          "name": "stdout",
          "text": [
            "Epoch 1/35\n",
            "1563/1563 [==============================] - 64s 39ms/step - loss: 2.7050 - accuracy: 0.2322\n",
            "Epoch 2/35\n",
            "1563/1563 [==============================] - 58s 37ms/step - loss: 2.5194 - accuracy: 0.2789\n",
            "Epoch 3/35\n",
            "1563/1563 [==============================] - 58s 37ms/step - loss: 2.3735 - accuracy: 0.3091\n",
            "Epoch 4/35\n",
            "1563/1563 [==============================] - 58s 37ms/step - loss: 2.2265 - accuracy: 0.3403\n",
            "Epoch 5/35\n",
            "1563/1563 [==============================] - 58s 37ms/step - loss: 2.0814 - accuracy: 0.3741\n",
            "Epoch 6/35\n",
            "1563/1563 [==============================] - 59s 38ms/step - loss: 1.9445 - accuracy: 0.4118\n",
            "Epoch 7/35\n",
            "1563/1563 [==============================] - 59s 38ms/step - loss: 1.8224 - accuracy: 0.4449\n",
            "Epoch 8/35\n",
            "1563/1563 [==============================] - 57s 37ms/step - loss: 1.7135 - accuracy: 0.4755\n",
            "Epoch 9/35\n",
            "1563/1563 [==============================] - 58s 37ms/step - loss: 1.6118 - accuracy: 0.5002\n",
            "Epoch 10/35\n",
            "1563/1563 [==============================] - 58s 37ms/step - loss: 1.5208 - accuracy: 0.5244\n",
            "Epoch 11/35\n",
            "1563/1563 [==============================] - 58s 37ms/step - loss: 1.4482 - accuracy: 0.5406\n",
            "Epoch 12/35\n",
            "1563/1563 [==============================] - 58s 37ms/step - loss: 1.3791 - accuracy: 0.5598\n",
            "Epoch 13/35\n",
            "1563/1563 [==============================] - 58s 37ms/step - loss: 1.3006 - accuracy: 0.5807\n",
            "Epoch 14/35\n",
            "1563/1563 [==============================] - 57s 37ms/step - loss: 1.2511 - accuracy: 0.5932\n",
            "Epoch 15/35\n",
            "1563/1563 [==============================] - 58s 37ms/step - loss: 1.1949 - accuracy: 0.6088\n",
            "Epoch 16/35\n",
            "1563/1563 [==============================] - 58s 37ms/step - loss: 1.1442 - accuracy: 0.6218\n",
            "Epoch 17/35\n",
            "1563/1563 [==============================] - 58s 37ms/step - loss: 1.0930 - accuracy: 0.6364\n",
            "Epoch 18/35\n",
            "1563/1563 [==============================] - 58s 37ms/step - loss: 1.0485 - accuracy: 0.6501\n",
            "Epoch 19/35\n",
            "1563/1563 [==============================] - 58s 37ms/step - loss: 1.0202 - accuracy: 0.6631\n",
            "Epoch 20/35\n",
            "1563/1563 [==============================] - 58s 37ms/step - loss: 0.9826 - accuracy: 0.6712\n",
            "Epoch 21/35\n",
            "1563/1563 [==============================] - 59s 37ms/step - loss: 0.9447 - accuracy: 0.6851\n",
            "Epoch 22/35\n",
            "1563/1563 [==============================] - 58s 37ms/step - loss: 0.9197 - accuracy: 0.6978\n",
            "Epoch 23/35\n",
            "1563/1563 [==============================] - 57s 37ms/step - loss: 0.8819 - accuracy: 0.7097\n",
            "Epoch 24/35\n",
            "1563/1563 [==============================] - 57s 37ms/step - loss: 0.8605 - accuracy: 0.7154\n",
            "Epoch 25/35\n",
            "1563/1563 [==============================] - 58s 37ms/step - loss: 0.8350 - accuracy: 0.7250\n",
            "Epoch 26/35\n",
            "1563/1563 [==============================] - 58s 37ms/step - loss: 0.8095 - accuracy: 0.7397\n",
            "Epoch 27/35\n",
            "1563/1563 [==============================] - 58s 37ms/step - loss: 0.7831 - accuracy: 0.7461\n",
            "Epoch 28/35\n",
            "1563/1563 [==============================] - 58s 37ms/step - loss: 0.7604 - accuracy: 0.7533\n",
            "Epoch 29/35\n",
            "1563/1563 [==============================] - 58s 37ms/step - loss: 0.7375 - accuracy: 0.7630\n",
            "Epoch 30/35\n",
            "1563/1563 [==============================] - 57s 36ms/step - loss: 0.7194 - accuracy: 0.7697\n",
            "Epoch 31/35\n",
            "1563/1563 [==============================] - 58s 37ms/step - loss: 0.7011 - accuracy: 0.7769\n",
            "Epoch 32/35\n",
            "1563/1563 [==============================] - 58s 37ms/step - loss: 0.6782 - accuracy: 0.7852\n",
            "Epoch 33/35\n",
            "1563/1563 [==============================] - 58s 37ms/step - loss: 0.6578 - accuracy: 0.7910\n",
            "Epoch 34/35\n",
            "1563/1563 [==============================] - 58s 37ms/step - loss: 0.6414 - accuracy: 0.7986\n",
            "Epoch 35/35\n",
            "1563/1563 [==============================] - 58s 37ms/step - loss: 0.6212 - accuracy: 0.8033\n"
          ]
        },
        {
          "output_type": "execute_result",
          "data": {
            "text/plain": [
              "<keras.src.callbacks.History at 0x7f3f38120cd0>"
            ]
          },
          "metadata": {},
          "execution_count": 20
        }
      ]
    },
    {
      "cell_type": "markdown",
      "source": [
        "**Accuracy of our model is 80.33 %**"
      ],
      "metadata": {
        "id": "Vhj_sq02gloe"
      }
    },
    {
      "cell_type": "code",
      "source": [
        "model.save('emotion_model.h5')\n"
      ],
      "metadata": {
        "colab": {
          "base_uri": "https://localhost:8080/"
        },
        "id": "pHYFkyRKYJAJ",
        "outputId": "47d7565c-cd54-497c-96a1-32105baf39f0"
      },
      "execution_count": 21,
      "outputs": [
        {
          "output_type": "stream",
          "name": "stderr",
          "text": [
            "/usr/local/lib/python3.10/dist-packages/keras/src/engine/training.py:3103: UserWarning: You are saving your model as an HDF5 file via `model.save()`. This file format is considered legacy. We recommend using instead the native Keras format, e.g. `model.save('my_model.keras')`.\n",
            "  saving_api.save_model(\n"
          ]
        }
      ]
    },
    {
      "cell_type": "code",
      "source": [
        "import pickle\n",
        "# Save the tokenizer after training\n",
        "with open('tokenizer.pickle', 'wb') as handle:\n",
        "    pickle.dump(tokenizer, handle, protocol=pickle.HIGHEST_PROTOCOL)\n"
      ],
      "metadata": {
        "id": "JWaBOxkKqoqR"
      },
      "execution_count": 22,
      "outputs": []
    },
    {
      "cell_type": "code",
      "source": [],
      "metadata": {
        "id": "x9ML7yv9ryra"
      },
      "execution_count": 22,
      "outputs": []
    },
    {
      "cell_type": "markdown",
      "source": [
        "#Model Testing"
      ],
      "metadata": {
        "id": "Cqoph9vpVqEt"
      }
    },
    {
      "cell_type": "code",
      "source": [
        "test=[\n",
        "    \"I love spending time with my family.\",\n",
        "    \"I can't stop smiling when I see you.\",\n",
        "    \"That joke was absolutely hilarious!\",\n",
        "    \"Sending you a kiss to brighten your day.\",\n",
        "    \"This pizza is absolutely delicious, it's so good!\",\n",
        "    \"Feeling happy and content today.\",\n",
        "    \"Looking cool in my new sunglasses.\",\n",
        "    \"Everything feels magical and sparkly tonight.\",\n",
        "    \"Sending you all my love and support.\",\n",
        "    \"Blowing a kiss to the best friend ever.\",\n",
        "    \"Let me take a quick selfie before we leave.\",\n",
        "    \"Celebrating the Fourth of July with fireworks!\",\n",
        "    \"It's such a sunny and beautiful day outside.\",\n",
        "    \"Purple is my favorite color of all time.\",\n",
        "    \"Feeling a little sad and down today.\",\n",
        "    \"That answer is absolutely correct!\",\n",
        "    \"I can't help but smile with joy!\",\n",
        "    \"Can't wait to decorate the Christmas tree.\",\n",
        "    \"It's so cozy being at home right now.\",\n",
        "    \"Taking some photos for my travel blog.\",\n",
        "\n",
        "    \"Love is all around us today.\",\n",
        "    \"That was a fantastic concert, wasn't it?\",\n",
        "    \"I just finished watching the funniest video.\",\n",
        "    \"I'm so lucky to have you in my life.\",\n",
        "    \"The new restaurant is on fire with its flavors.\",\n",
        "    \"Today has been such a peaceful day.\",\n",
        "    \"Got a new pair of shades and feeling cool.\",\n",
        "    \"The stars are shining extra bright tonight.\",\n",
        "    \"Hope you're having an amazing day, thinking of you.\",\n",
        "    \"Saying goodbye with a little kiss.\",\n",
        "    \"Capturing moments with my camera.\",\n",
        "    \"Celebrating Independence Day with my friends.\",\n",
        "    \"What a beautiful sunny morning to wake up to!\",\n",
        "    \"I've always loved purple ever since I was a child.\",\n",
        "    \"Feeling a bit under the weather today.\",\n",
        "    \"You absolutely nailed that answer!\",\n",
        "    \"The joy I feel right now is hard to describe.\",\n",
        "    \"Decorating the house for Christmas is so much fun.\",\n",
        "    \"It's the perfect day to relax at home.\",\n",
        "    \"Taking pictures is my favorite hobby on trips.\"\n",
        "]\n",
        "test_seq=tokenizer.texts_to_sequences(test)\n",
        "\n",
        "Xtest=pad_sequences(test_seq,max_len,padding='post', truncating='post')\n",
        "ypred=model.predict(Xtest)\n",
        "ypred=np.argmax(ypred,axis=1)\n",
        "ypred"
      ],
      "metadata": {
        "id": "2Pw_tFDGn6Kd",
        "colab": {
          "base_uri": "https://localhost:8080/"
        },
        "outputId": "060c6f86-f237-435b-d9ba-101b8c935734"
      },
      "execution_count": 23,
      "outputs": [
        {
          "output_type": "stream",
          "name": "stdout",
          "text": [
            "2/2 [==============================] - 1s 9ms/step\n"
          ]
        },
        {
          "output_type": "execute_result",
          "data": {
            "text/plain": [
              "array([ 9,  0,  2,  7,  2,  7,  6,  4,  0,  9, 14, 11,  0,  3,  7,  2,  4,\n",
              "       17,  4, 14,  0,  1,  2,  0,  6,  3, 15,  4, 13,  9, 18,  0,  7,  0,\n",
              "        6,  0,  3, 17,  0,  5])"
            ]
          },
          "metadata": {},
          "execution_count": 23
        }
      ]
    },
    {
      "cell_type": "code",
      "source": [
        "for i in range(len(ypred)):\n",
        "  print(test[i], \"  \", emoji_dict[str(ypred[i])])"
      ],
      "metadata": {
        "id": "5FWcba8l6wZb",
        "colab": {
          "base_uri": "https://localhost:8080/"
        },
        "outputId": "6e855d52-997e-470f-bf26-627c2a86b656"
      },
      "execution_count": 24,
      "outputs": [
        {
          "output_type": "stream",
          "name": "stdout",
          "text": [
            "I love spending time with my family.    😘\n",
            "I can't stop smiling when I see you.    ❤️\n",
            "That joke was absolutely hilarious!    😂\n",
            "Sending you a kiss to brighten your day.    ✨\n",
            "This pizza is absolutely delicious, it's so good!    😂\n",
            "Feeling happy and content today.    ✨\n",
            "Looking cool in my new sunglasses.    😎\n",
            "Everything feels magical and sparkly tonight.    🔥\n",
            "Sending you all my love and support.    ❤️\n",
            "Blowing a kiss to the best friend ever.    😘\n",
            "Let me take a quick selfie before we leave.    🙂\n",
            "Celebrating the Fourth of July with fireworks!    🇺🇸\n",
            "It's such a sunny and beautiful day outside.    ❤️\n",
            "Purple is my favorite color of all time.    💕\n",
            "Feeling a little sad and down today.    ✨\n",
            "That answer is absolutely correct!    😂\n",
            "I can't help but smile with joy!    🔥\n",
            "Can't wait to decorate the Christmas tree.    🎄\n",
            "It's so cozy being at home right now.    🔥\n",
            "Taking some photos for my travel blog.    🙂\n",
            "Love is all around us today.    ❤️\n",
            "That was a fantastic concert, wasn't it?    😄\n",
            "I just finished watching the funniest video.    😂\n",
            "I'm so lucky to have you in my life.    ❤️\n",
            "The new restaurant is on fire with its flavors.    😎\n",
            "Today has been such a peaceful day.    💕\n",
            "Got a new pair of shades and feeling cool.    💯\n",
            "The stars are shining extra bright tonight.    🔥\n",
            "Hope you're having an amazing day, thinking of you.    💜\n",
            "Saying goodbye with a little kiss.    😘\n",
            "Capturing moments with my camera.    🏠\n",
            "Celebrating Independence Day with my friends.    ❤️\n",
            "What a beautiful sunny morning to wake up to!    ✨\n",
            "I've always loved purple ever since I was a child.    ❤️\n",
            "Feeling a bit under the weather today.    😎\n",
            "You absolutely nailed that answer!    ❤️\n",
            "The joy I feel right now is hard to describe.    💕\n",
            "Decorating the house for Christmas is so much fun.    🎄\n",
            "It's the perfect day to relax at home.    ❤️\n",
            "Taking pictures is my favorite hobby on trips.    😊\n"
          ]
        }
      ]
    },
    {
      "cell_type": "code",
      "source": [],
      "metadata": {
        "id": "3SybFDZHr50w"
      },
      "execution_count": 24,
      "outputs": []
    },
    {
      "cell_type": "code",
      "source": [],
      "metadata": {
        "id": "OUezARJgr72h"
      },
      "execution_count": 24,
      "outputs": []
    }
  ]
}